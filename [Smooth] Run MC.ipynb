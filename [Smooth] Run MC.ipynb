{
 "cells": [
  {
   "cell_type": "code",
   "execution_count": null,
   "metadata": {},
   "outputs": [],
   "source": [
    "import matplotlib.pyplot as plt\n",
    "import numpy as np\n",
    "import pandas as pd\n",
    "\n",
    "import  numpy as np\n",
    "\n",
    "from time import time\n",
    "from datetime import timedelta\n",
    "\n",
    "# importing pacakge \n",
    "import sys         \n",
    "sys.path.append(r'C:\\Users\\omirinioui\\PycharmProjects\\Hadil_proj\\Code\\Bayesian Quad for CVA\\BQ CVA Swaps Multi RF\\libraries')        \n",
    "\n",
    "from main import *\n",
    "from FinancialData import *"
   ]
  },
  {
   "cell_type": "markdown",
   "metadata": {},
   "source": [
    "## Data extraction & Portfolio construction :"
   ]
  },
  {
   "cell_type": "code",
   "execution_count": null,
   "metadata": {},
   "outputs": [],
   "source": [
    "ZCR = ZC_Data_extractor(\"R:/DR-NATIXIS/ERM/MCRM/LeaderExpert/Stagiaires/2023\")\n",
    "ZC = zero_coupon_bonds(ZCR, 3) # We chose 3 as degree of the Spline Interpolation "
   ]
  },
  {
   "cell_type": "code",
   "execution_count": null,
   "metadata": {},
   "outputs": [],
   "source": [
    "nbr_fx =  10\n",
    "nbr_swap = 600\n",
    "portfolio = Multi_FX_irs_portfolio( nbr_fx, nbr_swap, first_date=[0], freq=[0.25, 0.5, 1], Nominal=[10000],\n",
    "                 maturity=list(np.arange(1, 8 + 0.5, 0.5)),\n",
    "                 fix_rate=[0.02, 0.05], exercice=['payer'], SEED=1999)\n",
    "\n",
    "\n",
    "portfolio.irs_specs"
   ]
  },
  {
   "cell_type": "code",
   "execution_count": 4,
   "metadata": {},
   "outputs": [],
   "source": [
    "# port_path = r'C:\\Users\\omirinioui\\PycharmProjects\\Hadil_proj\\Code\\Bayesian Quad for CVA\\BQ CVA Swaps Multi RF\\Data\\portfolio'\n",
    "# portfolio.save_as_excel(port_path, '\\port600irs10fx.xlsx')"
   ]
  },
  {
   "cell_type": "markdown",
   "metadata": {},
   "source": [
    "## Model parameters & diffusion :"
   ]
  },
  {
   "cell_type": "code",
   "execution_count": 4,
   "metadata": {},
   "outputs": [
    {
     "data": {
      "text/plain": [
       "(array([(0.01262514, 0.02158103), (0.01483993, 0.02395499),\n",
       "        (0.01679713, 0.01206138), (0.01793371, 0.01358329),\n",
       "        (0.01612759, 0.01795205), (0.01628393, 0.00724011),\n",
       "        (0.01504753, 0.01794328), (0.01398726, 0.00824533),\n",
       "        (0.01847861, 0.00541841), (0.0111421 , 0.0164185 )],\n",
       "       dtype=[('mean rev', '<f4'), ('sigma', '<f4')]),\n",
       " array([(0.        ,), (0.2465949 ,), (0.2789644 ,), (0.23386121,),\n",
       "        (0.25566685,), (0.22608992,), (0.27535012,), (0.22391306,),\n",
       "        (0.24992204,), (0.22566737,)], dtype=[('vol', '<f4')]),\n",
       " array([[1.   , 0.379, 0.269, 0.359, 0.646, 0.211, 0.873, 0.599, 0.411,\n",
       "         0.496, 0.67 , 0.071, 0.529, 0.398, 0.274, 0.737, 0.583, 0.661,\n",
       "         0.238],\n",
       "        [0.379, 1.   , 0.499, 0.534, 0.683, 0.716, 0.398, 0.398, 0.417,\n",
       "         0.493, 0.576, 0.72 , 0.744, 0.583, 0.046, 0.605, 0.323, 0.4  ,\n",
       "         0.697],\n",
       "        [0.269, 0.499, 1.   , 0.822, 0.425, 0.641, 0.542, 0.249, 0.184,\n",
       "         0.393, 0.539, 0.714, 0.197, 0.775, 0.09 , 0.337, 0.574, 0.549,\n",
       "         0.253],\n",
       "        [0.359, 0.534, 0.822, 1.   , 0.55 , 0.718, 0.442, 0.195, 0.401,\n",
       "         0.516, 0.524, 0.228, 0.56 , 0.625, 0.503, 0.465, 0.323, 0.546,\n",
       "         0.307],\n",
       "        [0.646, 0.683, 0.425, 0.55 , 1.   , 0.078, 0.322, 0.459, 0.872,\n",
       "         0.519, 0.54 , 0.202, 0.801, 0.709, 0.456, 0.257, 0.744, 0.437,\n",
       "         0.321],\n",
       "        [0.211, 0.716, 0.641, 0.718, 0.078, 1.   , 0.855, 0.41 , 0.546,\n",
       "         0.679, 0.642, 0.904, 0.159, 0.542, 0.36 , 0.322, 0.021, 0.676,\n",
       "         0.449],\n",
       "        [0.873, 0.398, 0.542, 0.442, 0.322, 0.855, 1.   , 0.528, 0.231,\n",
       "         0.826, 0.136, 0.54 , 0.317, 0.362, 0.329, 0.695, 0.493, 0.634,\n",
       "         0.802],\n",
       "        [0.599, 0.398, 0.249, 0.195, 0.459, 0.41 , 0.528, 1.   , 0.444,\n",
       "         0.703, 0.414, 0.837, 0.724, 0.215, 0.683, 0.409, 0.254, 0.326,\n",
       "         0.679],\n",
       "        [0.411, 0.417, 0.184, 0.401, 0.872, 0.546, 0.231, 0.444, 1.   ,\n",
       "         0.696, 0.114, 0.744, 0.445, 0.462, 0.647, 0.423, 0.501, 0.254,\n",
       "         0.333],\n",
       "        [0.496, 0.493, 0.393, 0.516, 0.519, 0.679, 0.826, 0.703, 0.696,\n",
       "         1.   , 0.653, 0.603, 0.545, 0.242, 0.616, 0.523, 0.584, 0.521,\n",
       "         0.135],\n",
       "        [0.67 , 0.576, 0.539, 0.524, 0.54 , 0.642, 0.136, 0.414, 0.114,\n",
       "         0.653, 1.   , 0.578, 0.693, 0.822, 0.53 , 0.255, 0.609, 0.637,\n",
       "         0.434],\n",
       "        [0.071, 0.72 , 0.714, 0.228, 0.202, 0.904, 0.54 , 0.837, 0.744,\n",
       "         0.603, 0.578, 1.   , 0.497, 0.449, 0.602, 0.503, 0.434, 0.757,\n",
       "         0.658],\n",
       "        [0.529, 0.744, 0.197, 0.56 , 0.801, 0.159, 0.317, 0.724, 0.445,\n",
       "         0.545, 0.693, 0.497, 1.   , 0.662, 0.109, 0.379, 0.702, 0.678,\n",
       "         0.6  ],\n",
       "        [0.398, 0.583, 0.775, 0.625, 0.709, 0.542, 0.362, 0.215, 0.462,\n",
       "         0.242, 0.822, 0.449, 0.662, 1.   , 0.44 , 0.231, 0.612, 0.769,\n",
       "         0.351],\n",
       "        [0.274, 0.046, 0.09 , 0.503, 0.456, 0.36 , 0.329, 0.683, 0.647,\n",
       "         0.616, 0.53 , 0.602, 0.109, 0.44 , 1.   , 0.141, 0.374, 0.659,\n",
       "         0.64 ],\n",
       "        [0.737, 0.605, 0.337, 0.465, 0.257, 0.322, 0.695, 0.409, 0.423,\n",
       "         0.523, 0.255, 0.503, 0.379, 0.231, 0.141, 1.   , 0.555, 0.428,\n",
       "         0.282],\n",
       "        [0.583, 0.323, 0.574, 0.323, 0.744, 0.021, 0.493, 0.254, 0.501,\n",
       "         0.584, 0.609, 0.434, 0.702, 0.612, 0.374, 0.555, 1.   , 0.593,\n",
       "         0.592],\n",
       "        [0.661, 0.4  , 0.549, 0.546, 0.437, 0.676, 0.634, 0.326, 0.254,\n",
       "         0.521, 0.637, 0.757, 0.678, 0.769, 0.659, 0.428, 0.593, 1.   ,\n",
       "         0.5  ],\n",
       "        [0.238, 0.697, 0.253, 0.307, 0.321, 0.449, 0.802, 0.679, 0.333,\n",
       "         0.135, 0.434, 0.658, 0.6  , 0.351, 0.64 , 0.282, 0.592, 0.5  ,\n",
       "         1.   ]]))"
      ]
     },
     "execution_count": 4,
     "metadata": {},
     "output_type": "execute_result"
    }
   ],
   "source": [
    "def Random_correlation_matrix(n):\n",
    "    rho = np.random.uniform(0, 1, (n, n))\n",
    "    rho = (rho + rho.T) / 2\n",
    "    np.fill_diagonal(rho, 1)\n",
    "    rho = np.round(rho, 3)\n",
    "    return rho\n",
    "model_params = Model_params(nbr_fx)\n",
    "cov_matrix = Random_correlation_matrix(2*nbr_fx-1)\n",
    "model_params.LGM_params, model_params.FX_params, cov_matrix"
   ]
  },
  {
   "cell_type": "code",
   "execution_count": 5,
   "metadata": {},
   "outputs": [
    {
     "name": "stdout",
     "output_type": "stream",
     "text": [
      "Diffusion Time 0:00:55\n"
     ]
    }
   ],
   "source": [
    "T = portfolio.last_maturity\n",
    "\n",
    "tt= time()\n",
    "diffusion = Multi_FX_Diffusion(0, T, 3000, [ZC for i in range(nbr_fx)], model_params, 10**4, pb_measure='Risk Neutral',\n",
    "                 cov_matrix= cov_matrix)\n",
    "print( 'Diffusion Time',\"{}\".format(str( timedelta( seconds=round(time()-tt) ) )) )\n",
    "\n",
    "# SAVE diffusion\n",
    "# diff_path = r'C:\\Users\\omirinioui\\PycharmProjects\\Hadil_proj\\Code\\Bayesian Quad for CVA\\BQ CVA Swaps Multi RF\\Data\\diffusion'\n",
    "# diffusion.save_as_pickle(diff_path,'\\MC10000p600s10f')"
   ]
  },
  {
   "cell_type": "markdown",
   "metadata": {},
   "source": [
    "## CVA calculation : "
   ]
  },
  {
   "cell_type": "code",
   "execution_count": 6,
   "metadata": {},
   "outputs": [],
   "source": [
    "#recovery rate & defult probability parameter :\n",
    "R, lamda = 0.4, 0.005"
   ]
  },
  {
   "cell_type": "code",
   "execution_count": 7,
   "metadata": {},
   "outputs": [
    {
     "ename": "NameError",
     "evalue": "name 'n' is not defined",
     "output_type": "error",
     "traceback": [
      "\u001b[1;31m---------------------------------------------------------------------------\u001b[0m",
      "\u001b[1;31mNameError\u001b[0m                                 Traceback (most recent call last)",
      "\u001b[1;32m<ipython-input-7-383e629bc92f>\u001b[0m in \u001b[0;36m<module>\u001b[1;34m\u001b[0m\n\u001b[0;32m      8\u001b[0m \u001b[0mcva\u001b[0m \u001b[1;33m=\u001b[0m \u001b[1;33m(\u001b[0m\u001b[0mnp\u001b[0m\u001b[1;33m.\u001b[0m\u001b[0mdiff\u001b[0m\u001b[1;33m(\u001b[0m\u001b[0mtime_grid\u001b[0m\u001b[1;33m)\u001b[0m\u001b[1;33m*\u001b[0m\u001b[0mY\u001b[0m\u001b[1;33m[\u001b[0m\u001b[1;36m1\u001b[0m\u001b[1;33m:\u001b[0m\u001b[1;33m]\u001b[0m\u001b[1;33m)\u001b[0m\u001b[1;33m.\u001b[0m\u001b[0msum\u001b[0m\u001b[1;33m(\u001b[0m\u001b[1;33m)\u001b[0m\u001b[1;33m\u001b[0m\u001b[1;33m\u001b[0m\u001b[0m\n\u001b[0;32m      9\u001b[0m \u001b[1;33m\u001b[0m\u001b[0m\n\u001b[1;32m---> 10\u001b[1;33m \u001b[0mplt\u001b[0m\u001b[1;33m.\u001b[0m\u001b[0mplot\u001b[0m\u001b[1;33m(\u001b[0m\u001b[0mtime_grid\u001b[0m\u001b[1;33m,\u001b[0m \u001b[0mEE\u001b[0m\u001b[1;33m,\u001b[0m \u001b[0mlabel\u001b[0m\u001b[1;33m=\u001b[0m\u001b[1;34m\"EE_MC\"\u001b[0m\u001b[1;33m+\u001b[0m\u001b[0mstr\u001b[0m\u001b[1;33m(\u001b[0m\u001b[0mn\u001b[0m\u001b[1;33m)\u001b[0m\u001b[1;33m)\u001b[0m\u001b[1;33m\u001b[0m\u001b[1;33m\u001b[0m\u001b[0m\n\u001b[0m\u001b[0;32m     11\u001b[0m \u001b[0mplt\u001b[0m\u001b[1;33m.\u001b[0m\u001b[0mlegend\u001b[0m\u001b[1;33m(\u001b[0m\u001b[1;33m)\u001b[0m\u001b[1;33m\u001b[0m\u001b[1;33m\u001b[0m\u001b[0m\n\u001b[0;32m     12\u001b[0m \u001b[0mplt\u001b[0m\u001b[1;33m.\u001b[0m\u001b[0mxlabel\u001b[0m\u001b[1;33m(\u001b[0m\u001b[1;34mr\"$t$\"\u001b[0m\u001b[1;33m)\u001b[0m\u001b[1;33m\u001b[0m\u001b[1;33m\u001b[0m\u001b[0m\n",
      "\u001b[1;31mNameError\u001b[0m: name 'n' is not defined"
     ]
    }
   ],
   "source": [
    "time_grid = np.linspace(0,T,20)\n",
    "\n",
    "mc_start = time()\n",
    "\n",
    "EE = np.array([ Expected_exposure_MC(t, portfolio, diffusion, [ZC for i in range(nbr_fx)]) for t in time_grid])\n",
    "PD = np.array([ lamda * np.exp(-lamda *t) for t in time_grid])\n",
    "Y = (1-R)*EE*PD\n",
    "cva = (np.diff(time_grid)*Y[1:]).sum()\n"
   ]
  },
  {
   "cell_type": "code",
   "execution_count": 8,
   "metadata": {},
   "outputs": [
    {
     "data": {
      "image/png": "[encoded data removed]",
      "text/plain": [
       "<Figure size 432x288 with 1 Axes>"
      ]
     },
     "metadata": {},
     "output_type": "display_data"
    }
   ],
   "source": [
    "   \n",
    "plt.plot(time_grid, EE, label=\"EE_MC\")\n",
    "plt.legend()\n",
    "plt.xlabel(r\"$t$\")\n",
    "plt.ylabel(r\"$Exposure$\")\n",
    "plt.grid(False)\n"
   ]
  },
  {
   "cell_type": "code",
   "execution_count": null,
   "metadata": {},
   "outputs": [],
   "source": []
  },
  {
   "cell_type": "code",
   "execution_count": 21,
   "metadata": {},
   "outputs": [
    {
     "name": "stdout",
     "output_type": "stream",
     "text": [
      "Total Calculation Time : 1:32:15\n"
     ]
    },
    {
     "data": {
      "text/html": [
       "<div>\n",
       "<style scoped>\n",
       "    .dataframe tbody tr th:only-of-type {\n",
       "        vertical-align: middle;\n",
       "    }\n",
       "\n",
       "    .dataframe tbody tr th {\n",
       "        vertical-align: top;\n",
       "    }\n",
       "\n",
       "    .dataframe thead th {\n",
       "        text-align: right;\n",
       "    }\n",
       "</style>\n",
       "<table border=\"1\" class=\"dataframe\">\n",
       "  <thead>\n",
       "    <tr style=\"text-align: right;\">\n",
       "      <th></th>\n",
       "      <th>Nodes Number</th>\n",
       "      <th>Mtm</th>\n",
       "      <th>CVA MC</th>\n",
       "      <th>time</th>\n",
       "    </tr>\n",
       "  </thead>\n",
       "  <tbody>\n",
       "    <tr>\n",
       "      <th>0</th>\n",
       "      <td>50.0</td>\n",
       "      <td>-75806.79</td>\n",
       "      <td>208.45</td>\n",
       "      <td>198.63</td>\n",
       "    </tr>\n",
       "    <tr>\n",
       "      <th>1</th>\n",
       "      <td>100.0</td>\n",
       "      <td>-75806.79</td>\n",
       "      <td>210.42</td>\n",
       "      <td>376.21</td>\n",
       "    </tr>\n",
       "    <tr>\n",
       "      <th>2</th>\n",
       "      <td>200.0</td>\n",
       "      <td>-75806.79</td>\n",
       "      <td>210.72</td>\n",
       "      <td>715.17</td>\n",
       "    </tr>\n",
       "    <tr>\n",
       "      <th>3</th>\n",
       "      <td>300.0</td>\n",
       "      <td>-75806.79</td>\n",
       "      <td>210.26</td>\n",
       "      <td>1020.56</td>\n",
       "    </tr>\n",
       "    <tr>\n",
       "      <th>4</th>\n",
       "      <td>400.0</td>\n",
       "      <td>-75806.79</td>\n",
       "      <td>210.67</td>\n",
       "      <td>1397.28</td>\n",
       "    </tr>\n",
       "    <tr>\n",
       "      <th>5</th>\n",
       "      <td>500.0</td>\n",
       "      <td>-75806.79</td>\n",
       "      <td>210.38</td>\n",
       "      <td>1826.06</td>\n",
       "    </tr>\n",
       "  </tbody>\n",
       "</table>\n",
       "</div>"
      ],
      "text/plain": [
       "   Nodes Number       Mtm  CVA MC     time\n",
       "0          50.0 -75806.79  208.45   198.63\n",
       "1         100.0 -75806.79  210.42   376.21\n",
       "2         200.0 -75806.79  210.72   715.17\n",
       "3         300.0 -75806.79  210.26  1020.56\n",
       "4         400.0 -75806.79  210.67  1397.28\n",
       "5         500.0 -75806.79  210.38  1826.06"
      ]
     },
     "execution_count": 21,
     "metadata": {},
     "output_type": "execute_result"
    },
    {
     "data": {
      "image/png": "[encoded data removed]",
      "text/plain": [
       "<Figure size 432x288 with 1 Axes>"
      ]
     },
     "metadata": {},
     "output_type": "display_data"
    }
   ],
   "source": [
    "img_path = r'C:\\Users\\omirinioui\\PycharmProjects\\Hadil_proj\\Code\\Bayesian Quad for CVA\\BQ CVA Swaps Multi RF\\Results\\Images'\n",
    "\n",
    "discretisations = [50,100,200,300,400,500]\n",
    "\n",
    "mtm = np.mean(portfolio.Mtm(0, diffusion, [ZC for i in range(nbr_fx)]))\n",
    "benchmark_df =  pd.DataFrame(columns=['Nodes Number', 'Mtm' ,'CVA MC', 'time'])\n",
    "\n",
    "start = time()\n",
    "for n in discretisations :\n",
    "    time_grid = np.linspace(0,T,n)\n",
    "    \n",
    "    mc_start = time()\n",
    "    \n",
    "    EE = np.array([ Expected_exposure_MC(t, portfolio, diffusion, [ZC for i in range(nbr_fx)]) for t in time_grid])\n",
    "    PD = np.array([ lamda * np.exp(-lamda *t) for t in time_grid])\n",
    "    Y = (1-R)*EE*PD\n",
    "    cva = (np.diff(time_grid)*Y[1:]).sum()\n",
    "    \n",
    "    benchmark_df.loc[len(benchmark_df)] = [ round(n) , mtm,cva, time() - mc_start]\n",
    "   \n",
    "    plt.plot(time_grid, EE, label=\"EE_MC\"+str(n))\n",
    "    plt.legend()\n",
    "    plt.xlabel(r\"$t$\")\n",
    "    plt.ylabel(r\"$Exposure$\")\n",
    "    plt.grid(False)\n",
    "    #plt.savefig(img_path+'\\EE_MC_P600sf10'+'.png')\n",
    "    plt.show()\n",
    "    \n",
    "print('Total Calculation Time :' , \"{}\".format(str( timedelta( seconds=round(time()-start) ) )))\n",
    "benchmark_df.round(2)"
   ]
  },
  {
   "cell_type": "code",
   "execution_count": 24,
   "metadata": {},
   "outputs": [
    {
     "data": {
      "text/plain": [
       "[<matplotlib.lines.Line2D at 0x1a290a92dc0>]"
      ]
     },
     "execution_count": 24,
     "metadata": {},
     "output_type": "execute_result"
    },
    {
     "data": {
      "image/png": "[encoded data removed]",
      "text/plain": [
       "<Figure size 432x288 with 1 Axes>"
      ]
     },
     "metadata": {},
     "output_type": "display_data"
    }
   ],
   "source": [
    "# Plot mtm to see the smothness or get ben hriz portfolio !\n",
    "mtm_tgrid = np.linspace(0,T,100)\n",
    "Mtm_mean = np.array([ portfolio.Mtm(t, diffusion, [ZC for i in range(nbr_fx)]).mean() for t in mtm_tgrid])\n",
    "plt.plot(mtm_tgrid, Mtm_mean)"
   ]
  },
  {
   "cell_type": "code",
   "execution_count": 25,
   "metadata": {},
   "outputs": [],
   "source": [
    "# # Save Results :\n",
    "# import pickle\n",
    "# result_path = r'C:\\Users\\omirinioui\\PycharmProjects\\Hadil_proj\\Code\\Bayesian Quad for CVA\\BQ CVA Swaps Multi RF\\Results\\Full MC'\n",
    "# with open(result_path+'\\EE_MC_P600sf10' ,'wb') as f:\n",
    "#     pickle.dump(benchmark_df,f)\n",
    "#     pickle.dump(EE,f)"
   ]
  },
  {
   "cell_type": "code",
   "execution_count": 28,
   "metadata": {},
   "outputs": [
    {
     "data": {
      "text/plain": [
       "array([0.99819471, 0.99760862, 0.99753527, ..., 0.99795499, 0.99704093,\n",
       "       0.99809733])"
      ]
     },
     "execution_count": 28,
     "metadata": {},
     "output_type": "execute_result"
    }
   ],
   "source": [
    "diffusion.FX_diff[5][6]"
   ]
  },
  {
   "cell_type": "code",
   "execution_count": 30,
   "metadata": {},
   "outputs": [
    {
     "data": {
      "text/plain": [
       "7981.030832033637"
      ]
     },
     "execution_count": 30,
     "metadata": {},
     "output_type": "execute_result"
    }
   ],
   "source": [
    "Expected_exposure_MC(6, portfolio, diffusion, [ZC for i in range(nbr_fx)])"
   ]
  },
  {
   "cell_type": "code",
   "execution_count": null,
   "metadata": {},
   "outputs": [],
   "source": []
  }
 ],
 "metadata": {
  "kernelspec": {
   "display_name": "Python 3",
   "language": "python",
   "name": "python3"
  },
  "language_info": {
   "codemirror_mode": {
    "name": "ipython",
    "version": 3
   },
   "file_extension": ".py",
   "mimetype": "text/x-python",
   "name": "python",
   "nbconvert_exporter": "python",
   "pygments_lexer": "ipython3",
   "version": "3.8.5"
  }
 },
 "nbformat": 4,
 "nbformat_minor": 4
}
