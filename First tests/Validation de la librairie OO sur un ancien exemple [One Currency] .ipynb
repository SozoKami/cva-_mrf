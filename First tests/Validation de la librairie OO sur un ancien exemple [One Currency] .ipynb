{
 "cells": [
  {
   "cell_type": "code",
   "execution_count": 1,
   "metadata": {},
   "outputs": [
    {
     "name": "stderr",
     "output_type": "stream",
     "text": [
      "C:\\Users\\omirinioui\\Anaconda3\\lib\\site-packages\\pandas\\core\\computation\\expressions.py:20: UserWarning: Pandas requires version '2.7.3' or newer of 'numexpr' (version '2.7.1' currently installed).\n",
      "  from pandas.core.computation.check import NUMEXPR_INSTALLED\n"
     ]
    }
   ],
   "source": [
    "import matplotlib.pyplot as plt\n",
    "import numpy as np\n",
    "import pandas as pd\n",
    "import os\n",
    "\n",
    "from libraries import *\n",
    "from FinancialData import *"
   ]
  },
  {
   "cell_type": "code",
   "execution_count": 4,
   "metadata": {},
   "outputs": [
    {
     "data": {
      "text/plain": [
       "{'first_reset_date': array([0, 0, 0, 0, 0, 0, 0, 0, 0, 0, 0, 0, 0, 0, 0, 0, 0, 0, 0, 0, 0, 0,\n",
       "        0, 0, 0, 0, 0, 0, 0, 0, 0, 0, 0, 0, 0, 0, 0, 0, 0, 0, 0, 0, 0, 0,\n",
       "        0, 0, 0, 0, 0, 0, 0, 0, 0, 0, 0, 0, 0, 0, 0, 0, 0, 0, 0, 0, 0, 0,\n",
       "        0, 0, 0, 0, 0, 0, 0, 0, 0, 0, 0, 0, 0, 0, 0, 0, 0, 0, 0, 0, 0, 0,\n",
       "        0, 0, 0, 0, 0, 0, 0, 0, 0, 0, 0, 0]),\n",
       " 'swap_freq': array([0.25, 0.25, 0.25, 0.5 , 1.  , 1.  , 1.  , 0.5 , 1.  , 0.25, 0.25,\n",
       "        0.25, 0.5 , 0.25, 0.25, 0.5 , 0.25, 1.  , 1.  , 1.  , 0.25, 0.5 ,\n",
       "        1.  , 0.5 , 0.5 , 1.  , 1.  , 0.25, 1.  , 0.25, 0.5 , 0.5 , 1.  ,\n",
       "        0.25, 0.5 , 0.25, 0.5 , 0.5 , 0.5 , 0.5 , 0.25, 0.25, 0.25, 1.  ,\n",
       "        0.25, 0.5 , 0.25, 1.  , 0.25, 1.  , 0.25, 1.  , 1.  , 1.  , 0.5 ,\n",
       "        1.  , 1.  , 1.  , 1.  , 0.25, 0.5 , 1.  , 1.  , 0.5 , 1.  , 0.25,\n",
       "        0.5 , 1.  , 0.25, 1.  , 0.5 , 1.  , 0.25, 1.  , 0.5 , 1.  , 1.  ,\n",
       "        1.  , 1.  , 0.25, 0.25, 0.25, 1.  , 0.25, 1.  , 1.  , 0.25, 0.5 ,\n",
       "        0.5 , 1.  , 0.5 , 0.25, 1.  , 0.5 , 0.5 , 1.  , 1.  , 0.5 , 0.25,\n",
       "        0.5 ]),\n",
       " 'swap_N': array([10000, 10000, 10000, 10000, 10000, 10000, 10000, 10000, 10000,\n",
       "        10000, 10000, 10000, 10000, 10000, 10000, 10000, 10000, 10000,\n",
       "        10000, 10000, 10000, 10000, 10000, 10000, 10000, 10000, 10000,\n",
       "        10000, 10000, 10000, 10000, 10000, 10000, 10000, 10000, 10000,\n",
       "        10000, 10000, 10000, 10000, 10000, 10000, 10000, 10000, 10000,\n",
       "        10000, 10000, 10000, 10000, 10000, 10000, 10000, 10000, 10000,\n",
       "        10000, 10000, 10000, 10000, 10000, 10000, 10000, 10000, 10000,\n",
       "        10000, 10000, 10000, 10000, 10000, 10000, 10000, 10000, 10000,\n",
       "        10000, 10000, 10000, 10000, 10000, 10000, 10000, 10000, 10000,\n",
       "        10000, 10000, 10000, 10000, 10000, 10000, 10000, 10000, 10000,\n",
       "        10000, 10000, 10000, 10000, 10000, 10000, 10000, 10000, 10000,\n",
       "        10000]),\n",
       " 'swap_maturity': array([2.5, 1. , 1. , 6.5, 4.5, 2. , 2. , 6.5, 2. , 4. , 3. , 3. , 3. ,\n",
       "        5.5, 1. , 2.5, 1.5, 4. , 4. , 6.5, 4. , 3. , 6.5, 3.5, 6. , 6. ,\n",
       "        5. , 6. , 4.5, 1.5, 5.5, 4.5, 2. , 6.5, 1.5, 1. , 6.5, 1.5, 1.5,\n",
       "        6.5, 5.5, 3. , 5. , 4.5, 2. , 5. , 5.5, 6.5, 2.5, 2.5, 1. , 4. ,\n",
       "        5. , 2.5, 4.5, 2. , 5. , 6.5, 2. , 2. , 5.5, 6. , 4. , 2. , 5. ,\n",
       "        1.5, 2. , 6. , 4.5, 2. , 3. , 1.5, 4.5, 6. , 4.5, 5. , 6. , 3.5,\n",
       "        4. , 3. , 4. , 3.5, 2. , 6. , 3. , 4.5, 2. , 2.5, 4.5, 4. , 3. ,\n",
       "        6.5, 5.5, 2.5, 2. , 1.5, 5. , 6.5, 6.5, 6. ]),\n",
       " 'swap_fixing_date': array([array([0.  , 0.25, 0.5 , 0.75, 1.  , 1.25, 1.5 , 1.75, 2.  , 2.25, 2.5 ]),\n",
       "        array([0.  , 0.25, 0.5 , 0.75, 1.  ]),\n",
       "        array([0.  , 0.25, 0.5 , 0.75, 1.  ]),\n",
       "        array([0. , 0.5, 1. , 1.5, 2. , 2.5, 3. , 3.5, 4. , 4.5, 5. , 5.5, 6. ,\n",
       "               6.5])                                                           ,\n",
       "        array([0., 1., 2., 3., 4., 5.]), array([0., 1., 2.]),\n",
       "        array([0., 1., 2.]),\n",
       "        array([0. , 0.5, 1. , 1.5, 2. , 2.5, 3. , 3.5, 4. , 4.5, 5. , 5.5, 6. ,\n",
       "               6.5])                                                           ,\n",
       "        array([0., 1., 2.]),\n",
       "        array([0.  , 0.25, 0.5 , 0.75, 1.  , 1.25, 1.5 , 1.75, 2.  , 2.25, 2.5 ,\n",
       "               2.75, 3.  , 3.25, 3.5 , 3.75, 4.  ])                             ,\n",
       "        array([0.  , 0.25, 0.5 , 0.75, 1.  , 1.25, 1.5 , 1.75, 2.  , 2.25, 2.5 ,\n",
       "               2.75, 3.  ])                                                     ,\n",
       "        array([0.  , 0.25, 0.5 , 0.75, 1.  , 1.25, 1.5 , 1.75, 2.  , 2.25, 2.5 ,\n",
       "               2.75, 3.  ])                                                     ,\n",
       "        array([0. , 0.5, 1. , 1.5, 2. , 2.5, 3. ]),\n",
       "        array([0.  , 0.25, 0.5 , 0.75, 1.  , 1.25, 1.5 , 1.75, 2.  , 2.25, 2.5 ,\n",
       "               2.75, 3.  , 3.25, 3.5 , 3.75, 4.  , 4.25, 4.5 , 4.75, 5.  , 5.25,\n",
       "               5.5 ])                                                           ,\n",
       "        array([0.  , 0.25, 0.5 , 0.75, 1.  ]),\n",
       "        array([0. , 0.5, 1. , 1.5, 2. , 2.5]),\n",
       "        array([0.  , 0.25, 0.5 , 0.75, 1.  , 1.25, 1.5 ]),\n",
       "        array([0., 1., 2., 3., 4.]), array([0., 1., 2., 3., 4.]),\n",
       "        array([0., 1., 2., 3., 4., 5., 6., 7.]),\n",
       "        array([0.  , 0.25, 0.5 , 0.75, 1.  , 1.25, 1.5 , 1.75, 2.  , 2.25, 2.5 ,\n",
       "               2.75, 3.  , 3.25, 3.5 , 3.75, 4.  ])                             ,\n",
       "        array([0. , 0.5, 1. , 1.5, 2. , 2.5, 3. ]),\n",
       "        array([0., 1., 2., 3., 4., 5., 6., 7.]),\n",
       "        array([0. , 0.5, 1. , 1.5, 2. , 2.5, 3. , 3.5]),\n",
       "        array([0. , 0.5, 1. , 1.5, 2. , 2.5, 3. , 3.5, 4. , 4.5, 5. , 5.5, 6. ]),\n",
       "        array([0., 1., 2., 3., 4., 5., 6.]),\n",
       "        array([0., 1., 2., 3., 4., 5.]),\n",
       "        array([0.  , 0.25, 0.5 , 0.75, 1.  , 1.25, 1.5 , 1.75, 2.  , 2.25, 2.5 ,\n",
       "               2.75, 3.  , 3.25, 3.5 , 3.75, 4.  , 4.25, 4.5 , 4.75, 5.  , 5.25,\n",
       "               5.5 , 5.75, 6.  ])                                               ,\n",
       "        array([0., 1., 2., 3., 4., 5.]),\n",
       "        array([0.  , 0.25, 0.5 , 0.75, 1.  , 1.25, 1.5 ]),\n",
       "        array([0. , 0.5, 1. , 1.5, 2. , 2.5, 3. , 3.5, 4. , 4.5, 5. , 5.5]),\n",
       "        array([0. , 0.5, 1. , 1.5, 2. , 2.5, 3. , 3.5, 4. , 4.5]),\n",
       "        array([0., 1., 2.]),\n",
       "        array([0.  , 0.25, 0.5 , 0.75, 1.  , 1.25, 1.5 , 1.75, 2.  , 2.25, 2.5 ,\n",
       "               2.75, 3.  , 3.25, 3.5 , 3.75, 4.  , 4.25, 4.5 , 4.75, 5.  , 5.25,\n",
       "               5.5 , 5.75, 6.  , 6.25, 6.5 ])                                   ,\n",
       "        array([0. , 0.5, 1. , 1.5]), array([0.  , 0.25, 0.5 , 0.75, 1.  ]),\n",
       "        array([0. , 0.5, 1. , 1.5, 2. , 2.5, 3. , 3.5, 4. , 4.5, 5. , 5.5, 6. ,\n",
       "               6.5])                                                           ,\n",
       "        array([0. , 0.5, 1. , 1.5]), array([0. , 0.5, 1. , 1.5]),\n",
       "        array([0. , 0.5, 1. , 1.5, 2. , 2.5, 3. , 3.5, 4. , 4.5, 5. , 5.5, 6. ,\n",
       "               6.5])                                                           ,\n",
       "        array([0.  , 0.25, 0.5 , 0.75, 1.  , 1.25, 1.5 , 1.75, 2.  , 2.25, 2.5 ,\n",
       "               2.75, 3.  , 3.25, 3.5 , 3.75, 4.  , 4.25, 4.5 , 4.75, 5.  , 5.25,\n",
       "               5.5 ])                                                           ,\n",
       "        array([0.  , 0.25, 0.5 , 0.75, 1.  , 1.25, 1.5 , 1.75, 2.  , 2.25, 2.5 ,\n",
       "               2.75, 3.  ])                                                     ,\n",
       "        array([0.  , 0.25, 0.5 , 0.75, 1.  , 1.25, 1.5 , 1.75, 2.  , 2.25, 2.5 ,\n",
       "               2.75, 3.  , 3.25, 3.5 , 3.75, 4.  , 4.25, 4.5 , 4.75, 5.  ])     ,\n",
       "        array([0., 1., 2., 3., 4., 5.]),\n",
       "        array([0.  , 0.25, 0.5 , 0.75, 1.  , 1.25, 1.5 , 1.75, 2.  ]),\n",
       "        array([0. , 0.5, 1. , 1.5, 2. , 2.5, 3. , 3.5, 4. , 4.5, 5. ]),\n",
       "        array([0.  , 0.25, 0.5 , 0.75, 1.  , 1.25, 1.5 , 1.75, 2.  , 2.25, 2.5 ,\n",
       "               2.75, 3.  , 3.25, 3.5 , 3.75, 4.  , 4.25, 4.5 , 4.75, 5.  , 5.25,\n",
       "               5.5 ])                                                           ,\n",
       "        array([0., 1., 2., 3., 4., 5., 6., 7.]),\n",
       "        array([0.  , 0.25, 0.5 , 0.75, 1.  , 1.25, 1.5 , 1.75, 2.  , 2.25, 2.5 ]),\n",
       "        array([0., 1., 2., 3.]), array([0.  , 0.25, 0.5 , 0.75, 1.  ]),\n",
       "        array([0., 1., 2., 3., 4.]), array([0., 1., 2., 3., 4., 5.]),\n",
       "        array([0., 1., 2., 3.]),\n",
       "        array([0. , 0.5, 1. , 1.5, 2. , 2.5, 3. , 3.5, 4. , 4.5]),\n",
       "        array([0., 1., 2.]), array([0., 1., 2., 3., 4., 5.]),\n",
       "        array([0., 1., 2., 3., 4., 5., 6., 7.]), array([0., 1., 2.]),\n",
       "        array([0.  , 0.25, 0.5 , 0.75, 1.  , 1.25, 1.5 , 1.75, 2.  ]),\n",
       "        array([0. , 0.5, 1. , 1.5, 2. , 2.5, 3. , 3.5, 4. , 4.5, 5. , 5.5]),\n",
       "        array([0., 1., 2., 3., 4., 5., 6.]), array([0., 1., 2., 3., 4.]),\n",
       "        array([0. , 0.5, 1. , 1.5, 2. ]), array([0., 1., 2., 3., 4., 5.]),\n",
       "        array([0.  , 0.25, 0.5 , 0.75, 1.  , 1.25, 1.5 ]),\n",
       "        array([0. , 0.5, 1. , 1.5, 2. ]),\n",
       "        array([0., 1., 2., 3., 4., 5., 6.]),\n",
       "        array([0.  , 0.25, 0.5 , 0.75, 1.  , 1.25, 1.5 , 1.75, 2.  , 2.25, 2.5 ,\n",
       "               2.75, 3.  , 3.25, 3.5 , 3.75, 4.  , 4.25, 4.5 ])                 ,\n",
       "        array([0., 1., 2.]), array([0. , 0.5, 1. , 1.5, 2. , 2.5, 3. ]),\n",
       "        array([0., 1., 2.]),\n",
       "        array([0.  , 0.25, 0.5 , 0.75, 1.  , 1.25, 1.5 , 1.75, 2.  , 2.25, 2.5 ,\n",
       "               2.75, 3.  , 3.25, 3.5 , 3.75, 4.  , 4.25, 4.5 ])                 ,\n",
       "        array([0., 1., 2., 3., 4., 5., 6.]),\n",
       "        array([0. , 0.5, 1. , 1.5, 2. , 2.5, 3. , 3.5, 4. , 4.5]),\n",
       "        array([0., 1., 2., 3., 4., 5.]),\n",
       "        array([0., 1., 2., 3., 4., 5., 6.]), array([0., 1., 2., 3., 4.]),\n",
       "        array([0., 1., 2., 3., 4.]),\n",
       "        array([0.  , 0.25, 0.5 , 0.75, 1.  , 1.25, 1.5 , 1.75, 2.  , 2.25, 2.5 ,\n",
       "               2.75, 3.  ])                                                     ,\n",
       "        array([0.  , 0.25, 0.5 , 0.75, 1.  , 1.25, 1.5 , 1.75, 2.  , 2.25, 2.5 ,\n",
       "               2.75, 3.  , 3.25, 3.5 , 3.75, 4.  ])                             ,\n",
       "        array([0.  , 0.25, 0.5 , 0.75, 1.  , 1.25, 1.5 , 1.75, 2.  , 2.25, 2.5 ,\n",
       "               2.75, 3.  , 3.25, 3.5 ])                                         ,\n",
       "        array([0., 1., 2.]),\n",
       "        array([0.  , 0.25, 0.5 , 0.75, 1.  , 1.25, 1.5 , 1.75, 2.  , 2.25, 2.5 ,\n",
       "               2.75, 3.  , 3.25, 3.5 , 3.75, 4.  , 4.25, 4.5 , 4.75, 5.  , 5.25,\n",
       "               5.5 , 5.75, 6.  ])                                               ,\n",
       "        array([0., 1., 2., 3.]), array([0., 1., 2., 3., 4., 5.]),\n",
       "        array([0.  , 0.25, 0.5 , 0.75, 1.  , 1.25, 1.5 , 1.75, 2.  ]),\n",
       "        array([0. , 0.5, 1. , 1.5, 2. , 2.5]),\n",
       "        array([0. , 0.5, 1. , 1.5, 2. , 2.5, 3. , 3.5, 4. , 4.5]),\n",
       "        array([0., 1., 2., 3., 4.]),\n",
       "        array([0. , 0.5, 1. , 1.5, 2. , 2.5, 3. ]),\n",
       "        array([0.  , 0.25, 0.5 , 0.75, 1.  , 1.25, 1.5 , 1.75, 2.  , 2.25, 2.5 ,\n",
       "               2.75, 3.  , 3.25, 3.5 , 3.75, 4.  , 4.25, 4.5 , 4.75, 5.  , 5.25,\n",
       "               5.5 , 5.75, 6.  , 6.25, 6.5 ])                                   ,\n",
       "        array([0., 1., 2., 3., 4., 5., 6.]),\n",
       "        array([0. , 0.5, 1. , 1.5, 2. , 2.5]),\n",
       "        array([0. , 0.5, 1. , 1.5, 2. ]), array([0., 1., 2.]),\n",
       "        array([0., 1., 2., 3., 4., 5.]),\n",
       "        array([0. , 0.5, 1. , 1.5, 2. , 2.5, 3. , 3.5, 4. , 4.5, 5. , 5.5, 6. ,\n",
       "               6.5])                                                           ,\n",
       "        array([0.  , 0.25, 0.5 , 0.75, 1.  , 1.25, 1.5 , 1.75, 2.  , 2.25, 2.5 ,\n",
       "               2.75, 3.  , 3.25, 3.5 , 3.75, 4.  , 4.25, 4.5 , 4.75, 5.  , 5.25,\n",
       "               5.5 , 5.75, 6.  , 6.25, 6.5 ])                                   ,\n",
       "        array([0. , 0.5, 1. , 1.5, 2. , 2.5, 3. , 3.5, 4. , 4.5, 5. , 5.5, 6. ])],\n",
       "       dtype=object),\n",
       " 'LAST_MATURITY': 6.5,\n",
       " 'swap_fix_rate': array([0.04473561, 0.0495388 , 0.04679434, 0.02958941, 0.0377977 ,\n",
       "        0.02586477, 0.0458065 , 0.04592902, 0.02235854, 0.04150736,\n",
       "        0.04176027, 0.04205143, 0.04384751, 0.03102544, 0.04814816,\n",
       "        0.03369468, 0.04944312, 0.02968356, 0.04823908, 0.02007446,\n",
       "        0.02876714, 0.02836724, 0.03912126, 0.04193766, 0.02369205,\n",
       "        0.03000544, 0.04959041, 0.04503516, 0.02773353, 0.04777863,\n",
       "        0.02527321, 0.03446183, 0.03417087, 0.02869539, 0.02827554,\n",
       "        0.03094543, 0.0454398 , 0.02432436, 0.04490859, 0.02695735,\n",
       "        0.02250686, 0.02625809, 0.02823134, 0.04968296, 0.0460538 ,\n",
       "        0.03986286, 0.03150695, 0.02199289, 0.04325711, 0.03097564,\n",
       "        0.02256966, 0.02207883, 0.04301249, 0.04563588, 0.03323029,\n",
       "        0.02520199, 0.03931349, 0.0486768 , 0.02054214, 0.0293651 ,\n",
       "        0.04817018, 0.02820325, 0.03222105, 0.02791243, 0.0409836 ,\n",
       "        0.02067609, 0.03448111, 0.04493175, 0.04581116, 0.03757811,\n",
       "        0.03737842, 0.03230875, 0.03124846, 0.04947308, 0.04187531,\n",
       "        0.03665608, 0.04889834, 0.03368275, 0.03706353, 0.04666312,\n",
       "        0.03692477, 0.04459807, 0.03178213, 0.03636567, 0.04906107,\n",
       "        0.02481337, 0.04465757, 0.02490906, 0.02272708, 0.03504117,\n",
       "        0.03694042, 0.02850567, 0.04225278, 0.03273764, 0.02768782,\n",
       "        0.045375  , 0.02152557, 0.03390076, 0.02831143, 0.02616855]),\n",
       " 'swap_exercice': array(['payer', 'payer', 'payer', 'payer', 'payer', 'payer', 'payer',\n",
       "        'payer', 'payer', 'payer', 'payer', 'payer', 'payer', 'payer',\n",
       "        'payer', 'payer', 'payer', 'payer', 'payer', 'payer', 'payer',\n",
       "        'payer', 'payer', 'payer', 'payer', 'payer', 'payer', 'payer',\n",
       "        'payer', 'payer', 'payer', 'payer', 'payer', 'payer', 'payer',\n",
       "        'payer', 'payer', 'payer', 'payer', 'payer', 'payer', 'payer',\n",
       "        'payer', 'payer', 'payer', 'payer', 'payer', 'payer', 'payer',\n",
       "        'payer', 'payer', 'payer', 'payer', 'payer', 'payer', 'payer',\n",
       "        'payer', 'payer', 'payer', 'payer', 'payer', 'payer', 'payer',\n",
       "        'payer', 'payer', 'payer', 'payer', 'payer', 'payer', 'payer',\n",
       "        'payer', 'payer', 'payer', 'payer', 'payer', 'payer', 'payer',\n",
       "        'payer', 'payer', 'payer', 'payer', 'payer', 'payer', 'payer',\n",
       "        'payer', 'payer', 'payer', 'payer', 'payer', 'payer', 'payer',\n",
       "        'payer', 'payer', 'payer', 'payer', 'payer', 'payer', 'payer',\n",
       "        'payer', 'payer'], dtype='<U5'),\n",
       " 'NBR_SWAPS': 100}"
      ]
     },
     "execution_count": 4,
     "metadata": {},
     "output_type": "execute_result"
    }
   ],
   "source": [
    "ZCR = ZC_Data_extractor(\"R:/DR-NATIXIS/ERM/MCRM/LeaderExpert/Stagiaires/2023\")\n",
    "ZC = zero_coupon_bonds(ZCR,2)\n",
    "\n",
    "irs = IrsPortfolio(100,  first_date=[0], freq=[0.25,0.5,1], Nominal=[10**4], maturity=list(np.arange(1, 7, 0.5)),\n",
    "                  fix_rate=[0.02, 0.05], exercice=['payer'], SEED=1999)\n",
    "irs.print_as_dict()"
   ]
  },
  {
   "cell_type": "code",
   "execution_count": 5,
   "metadata": {},
   "outputs": [],
   "source": [
    "# LGM parameter's  \n",
    "sig, lam = 0.005 , 0.01\n",
    "#recovery rate & defult probability parameter :\n",
    "R, lamda = 0.4, 0.005"
   ]
  },
  {
   "cell_type": "code",
   "execution_count": 7,
   "metadata": {},
   "outputs": [],
   "source": [
    "import pickle\n",
    "#load MC data\n",
    "path_data = r'C:\\Users\\omirinioui\\PycharmProjects\\Hadil_proj\\Code\\Bayesian Quad for CVA\\BQ CVA Swap Portfolio\\Data\\MC_data'\n",
    "with open(path_data+'/MC_P100payerATM', 'rb') as f1:\n",
    "    EE_MC = pickle.load(f1)\n",
    "    mc_df =  pickle.load(f1)\n",
    "    X_paths = pickle.load(f1)"
   ]
  },
  {
   "cell_type": "markdown",
   "metadata": {},
   "source": [
    "## Results with the same diffusion :"
   ]
  },
  {
   "cell_type": "code",
   "execution_count": 8,
   "metadata": {},
   "outputs": [],
   "source": [
    "T = irs.last_maturity\n",
    "diffusion = Diffusion(0, T,int(T*360) +1 , sig,lam, NBR_SCENARIOS=10**4, pb_measure='Terminal at t')\n",
    "diffusion.X_diff = X_paths"
   ]
  },
  {
   "cell_type": "code",
   "execution_count": 12,
   "metadata": {},
   "outputs": [
    {
     "name": "stdout",
     "output_type": "stream",
     "text": [
      "Time Calcul :  402.05861377716064\n",
      "83.76266684577402\n"
     ]
    },
    {
     "data": {
      "image/png": "[encoded data removed]",
      "text/plain": [
       "<Figure size 432x288 with 1 Axes>"
      ]
     },
     "metadata": {},
     "output_type": "display_data"
    }
   ],
   "source": [
    "import time\n",
    "time_grid = np.linspace(0,T,700)\n",
    "tt = time.time()\n",
    "EE_MC2 = np.array([Expected_exposure_MC(t, irs, diffusion, ZC) for t in time_grid])\n",
    "PD_full = np.array([ lamda * np.exp(-lamda *t) for t in time_grid])\n",
    "Y_MC = (1-R)*EE_MC2*PD_full\n",
    "print('Time Calcul : ', time.time()-tt)\n",
    "\n",
    "print((np.diff(time_grid)*Y_MC[1:]).sum())\n",
    "\n",
    "plt.plot(time_grid, EE_MC2, label=\"EE_MC\")\n",
    "plt.legend()\n",
    "plt.xlabel(r\"$t$\")\n",
    "plt.ylabel(r\"$Exposure$\")\n",
    "plt.grid(True)\n"
   ]
  },
  {
   "cell_type": "code",
   "execution_count": 13,
   "metadata": {},
   "outputs": [
    {
     "data": {
      "image/png": "[encoded data removed]",
      "text/plain": [
       "<Figure size 432x288 with 1 Axes>"
      ]
     },
     "metadata": {},
     "output_type": "display_data"
    },
    {
     "data": {
      "text/plain": [
       "[<matplotlib.lines.Line2D at 0x13e122707f0>]"
      ]
     },
     "execution_count": 13,
     "metadata": {},
     "output_type": "execute_result"
    },
    {
     "data": {
      "image/png": "[encoded data removed]",
      "text/plain": [
       "<Figure size 432x288 with 1 Axes>"
      ]
     },
     "metadata": {},
     "output_type": "display_data"
    }
   ],
   "source": [
    "plt.plot((100*np.abs(EE_MC - EE_MC2)/EE_MC)[0:])\n",
    "plt.show()\n",
    "plt.plot(EE_MC)\n",
    "plt.plot(EE_MC2)"
   ]
  },
  {
   "cell_type": "markdown",
   "metadata": {},
   "source": [
    "## Results with different diffusion :"
   ]
  },
  {
   "cell_type": "code",
   "execution_count": 14,
   "metadata": {},
   "outputs": [],
   "source": [
    "diffusion = Diffusion(0, T,int(T*360) +1 , sig,lam, NBR_SCENARIOS=10**4, pb_measure='Terminal at t')\n",
    "diffusion.X_diff - X_paths"
   ]
  },
  {
   "cell_type": "code",
   "execution_count": null,
   "metadata": {},
   "outputs": [],
   "source": [
    "import time\n",
    "time_grid = np.linspace(0,T,700)\n",
    "tt = time.time()\n",
    "EE_MC2 = np.array([Expected_exposure_MC(t, irs, diffusion, ZC) for t in time_grid])\n",
    "PD_full = np.array([ lamda * np.exp(-lamda *t) for t in time_grid])\n",
    "Y_MC = (1-R)*EE_MC2*PD_full\n",
    "print('Time Calcul : ', time.time()-tt)\n",
    "\n",
    "print((np.diff(time_grid)*Y_MC[1:]).sum())\n",
    "\n",
    "plt.plot(time_grid, EE_MC2, label=\"EE_MC\")\n",
    "plt.legend()\n",
    "plt.xlabel(r\"$t$\")\n",
    "plt.ylabel(r\"$Exposure$\")\n",
    "plt.grid(True)\n"
   ]
  },
  {
   "cell_type": "code",
   "execution_count": null,
   "metadata": {},
   "outputs": [],
   "source": [
    "plt.plot((100*np.abs(EE_MC - EE_MC2)/EE_MC)[0:])\n",
    "plt.show()\n",
    "plt.plot(EE_MC)\n",
    "plt.plot(EE_MC2)"
   ]
  },
  {
   "cell_type": "code",
   "execution_count": null,
   "metadata": {},
   "outputs": [],
   "source": []
  }
 ],
 "metadata": {
  "kernelspec": {
   "display_name": "Python 3",
   "language": "python",
   "name": "python3"
  },
  "language_info": {
   "codemirror_mode": {
    "name": "ipython",
    "version": 3
   },
   "file_extension": ".py",
   "mimetype": "text/x-python",
   "name": "python",
   "nbconvert_exporter": "python",
   "pygments_lexer": "ipython3",
   "version": "3.8.5"
  }
 },
 "nbformat": 4,
 "nbformat_minor": 4
}
