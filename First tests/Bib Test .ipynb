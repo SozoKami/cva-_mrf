{
 "cells": [
  {
   "cell_type": "code",
   "execution_count": 2,
   "metadata": {},
   "outputs": [
    {
     "name": "stderr",
     "output_type": "stream",
     "text": [
      "C:\\Users\\omirinioui\\Anaconda3\\lib\\site-packages\\pandas\\core\\computation\\expressions.py:20: UserWarning: Pandas requires version '2.7.3' or newer of 'numexpr' (version '2.7.1' currently installed).\n",
      "  from pandas.core.computation.check import NUMEXPR_INSTALLED\n"
     ]
    }
   ],
   "source": [
    "import matplotlib.pyplot as plt\n",
    "import numpy as np\n",
    "import pandas as pd\n",
    "\n",
    "import  numpy as np\n",
    "\n",
    "from time import time\n",
    "from datetime import timedelta\n",
    "\n",
    "\n",
    "# importing the sys module\n",
    "import sys         \n",
    "\n",
    "sys.path.append(r'C:\\Users\\omirinioui\\PycharmProjects\\Hadil_proj\\Code\\Bayesian Quad for CVA\\BQ CVA Swaps Multi RF\\libraries')        \n",
    " \n",
    "\n",
    "from main import *\n",
    "from FinancialData import *"
   ]
  },
  {
   "cell_type": "markdown",
   "metadata": {},
   "source": [
    "## Data extraction & Portfolio construction :"
   ]
  },
  {
   "cell_type": "code",
   "execution_count": 2,
   "metadata": {},
   "outputs": [
    {
     "data": {
      "text/html": [
       "<div>\n",
       "<style scoped>\n",
       "    .dataframe tbody tr th:only-of-type {\n",
       "        vertical-align: middle;\n",
       "    }\n",
       "\n",
       "    .dataframe tbody tr th {\n",
       "        vertical-align: top;\n",
       "    }\n",
       "\n",
       "    .dataframe thead th {\n",
       "        text-align: right;\n",
       "    }\n",
       "</style>\n",
       "<table border=\"1\" class=\"dataframe\">\n",
       "  <thead>\n",
       "    <tr style=\"text-align: right;\">\n",
       "      <th></th>\n",
       "      <th>Time</th>\n",
       "      <th>Rate</th>\n",
       "    </tr>\n",
       "  </thead>\n",
       "  <tbody>\n",
       "    <tr>\n",
       "      <th>0</th>\n",
       "      <td>0.002740</td>\n",
       "      <td>0.025852</td>\n",
       "    </tr>\n",
       "    <tr>\n",
       "      <th>1</th>\n",
       "      <td>0.083333</td>\n",
       "      <td>0.026139</td>\n",
       "    </tr>\n",
       "    <tr>\n",
       "      <th>2</th>\n",
       "      <td>0.500000</td>\n",
       "      <td>0.023282</td>\n",
       "    </tr>\n",
       "    <tr>\n",
       "      <th>3</th>\n",
       "      <td>1.000000</td>\n",
       "      <td>0.022931</td>\n",
       "    </tr>\n",
       "    <tr>\n",
       "      <th>4</th>\n",
       "      <td>2.000000</td>\n",
       "      <td>0.023921</td>\n",
       "    </tr>\n",
       "    <tr>\n",
       "      <th>5</th>\n",
       "      <td>3.000000</td>\n",
       "      <td>0.026613</td>\n",
       "    </tr>\n",
       "    <tr>\n",
       "      <th>6</th>\n",
       "      <td>4.000000</td>\n",
       "      <td>0.029313</td>\n",
       "    </tr>\n",
       "    <tr>\n",
       "      <th>7</th>\n",
       "      <td>5.000000</td>\n",
       "      <td>0.031783</td>\n",
       "    </tr>\n",
       "    <tr>\n",
       "      <th>8</th>\n",
       "      <td>6.000000</td>\n",
       "      <td>0.034012</td>\n",
       "    </tr>\n",
       "    <tr>\n",
       "      <th>9</th>\n",
       "      <td>7.000000</td>\n",
       "      <td>0.036106</td>\n",
       "    </tr>\n",
       "    <tr>\n",
       "      <th>10</th>\n",
       "      <td>10.000000</td>\n",
       "      <td>0.040964</td>\n",
       "    </tr>\n",
       "    <tr>\n",
       "      <th>11</th>\n",
       "      <td>15.000000</td>\n",
       "      <td>0.045843</td>\n",
       "    </tr>\n",
       "    <tr>\n",
       "      <th>12</th>\n",
       "      <td>20.000000</td>\n",
       "      <td>0.048587</td>\n",
       "    </tr>\n",
       "  </tbody>\n",
       "</table>\n",
       "</div>"
      ],
      "text/plain": [
       "         Time      Rate\n",
       "0    0.002740  0.025852\n",
       "1    0.083333  0.026139\n",
       "2    0.500000  0.023282\n",
       "3    1.000000  0.022931\n",
       "4    2.000000  0.023921\n",
       "5    3.000000  0.026613\n",
       "6    4.000000  0.029313\n",
       "7    5.000000  0.031783\n",
       "8    6.000000  0.034012\n",
       "9    7.000000  0.036106\n",
       "10  10.000000  0.040964\n",
       "11  15.000000  0.045843\n",
       "12  20.000000  0.048587"
      ]
     },
     "execution_count": 2,
     "metadata": {},
     "output_type": "execute_result"
    }
   ],
   "source": [
    "ZCR = ZC_Data_extractor(\"R:/DR-NATIXIS/ERM/MCRM/LeaderExpert/Stagiaires/2023\")\n",
    "ZC = zero_coupon_bonds(ZCR, 3) # We chose 3 as degree of the Spline Interpolation \n",
    "ZCR"
   ]
  },
  {
   "cell_type": "code",
   "execution_count": 3,
   "metadata": {},
   "outputs": [],
   "source": [
    "nbr_fx =  3\n",
    "nbr_swap = 100\n",
    "portfolio = Multi_FX_irs_portfolio( nbr_fx, nbr_swap, first_date=[0], freq=[0.25, 0.5, 1], Nominal=[10000],\n",
    "                 maturity=list(np.arange(1, 7 + 0.5, 0.5)),\n",
    "                 fix_rate=[0.02, 0.05], exercice=['payer'], SEED=1999)\n",
    "#portfolio.irs_specs"
   ]
  },
  {
   "cell_type": "markdown",
   "metadata": {},
   "source": [
    "## Model parameters & diffusion :"
   ]
  },
  {
   "cell_type": "code",
   "execution_count": 4,
   "metadata": {},
   "outputs": [],
   "source": [
    "def Random_correlation_matrix(n):\n",
    "    rho = np.random.uniform(0, 1, (n, n))\n",
    "    rho = (rho + rho.T) / 2\n",
    "    np.fill_diagonal(rho, 1)\n",
    "    rho = np.round(rho, 3)\n",
    "    return rho"
   ]
  },
  {
   "cell_type": "code",
   "execution_count": 5,
   "metadata": {
    "scrolled": true
   },
   "outputs": [],
   "source": [
    "model_params = Model_params(nbr_fx)\n",
    "cov_matrix = Random_correlation_matrix(2*nbr_fx-1)\n",
    "# model_params.LGM_params, model_params.FX_params, cov_matrix"
   ]
  },
  {
   "cell_type": "code",
   "execution_count": 6,
   "metadata": {},
   "outputs": [
    {
     "name": "stdout",
     "output_type": "stream",
     "text": [
      "Diffusion Time 0:00:14\n"
     ]
    }
   ],
   "source": [
    "T = portfolio.last_maturity\n",
    "\n",
    "tt= time()\n",
    "diffusion = Multi_FX_Diffusion(0, T, 3000, [ZC for i in range(nbr_fx)], model_params, 10**4, pb_measure='Risk Neutral',\n",
    "                 cov_matrix= cov_matrix)\n",
    "print( 'Diffusion Time',\"{}\".format(str( timedelta( seconds=round(time()-tt) ) )) )"
   ]
  },
  {
   "cell_type": "markdown",
   "metadata": {},
   "source": [
    "## CVA calculation :"
   ]
  },
  {
   "cell_type": "code",
   "execution_count": 7,
   "metadata": {},
   "outputs": [],
   "source": [
    "#recovery rate & defult probability parameter :\n",
    "R, lamda = 0.4, 0.005"
   ]
  },
  {
   "cell_type": "code",
   "execution_count": 8,
   "metadata": {},
   "outputs": [
    {
     "name": "stdout",
     "output_type": "stream",
     "text": [
      "CVA calculation Time 0:03:04\n",
      " CVA value :  510.9682555722584\n"
     ]
    },
    {
     "data": {
      "image/png": "[encoded data removed]",
      "text/plain": [
       "<Figure size 432x288 with 1 Axes>"
      ]
     },
     "metadata": {},
     "output_type": "display_data"
    }
   ],
   "source": [
    "time_grid = np.linspace(0,T,200)\n",
    "\n",
    "tt = time()\n",
    "\n",
    "EE = np.array([ Expected_exposure_MC(t, portfolio, diffusion, [ZC for i in range(nbr_fx)]) for t in time_grid])\n",
    "PD = np.array([ lamda * np.exp(-lamda *t) for t in time_grid])\n",
    "\n",
    "Y = (1-R)*EE*PD\n",
    "CVA = (np.diff(time_grid)*Y[1:]).sum()\n",
    "\n",
    "print( 'CVA calculation Time',\"{}\".format(str( timedelta( seconds=round(time()-tt) ) )) )\n",
    "print(' CVA value : ' , CVA)\n",
    "\n",
    "plt.plot(time_grid, EE, label=\"EE_MC\")\n",
    "plt.legend()\n",
    "plt.xlabel(r\"$t$\")\n",
    "plt.ylabel(r\"$Exposure$\")\n",
    "plt.grid(False)\n",
    "plt.show()"
   ]
  },
  {
   "cell_type": "code",
   "execution_count": null,
   "metadata": {},
   "outputs": [],
   "source": []
  }
 ],
 "metadata": {
  "kernelspec": {
   "display_name": "Python 3",
   "language": "python",
   "name": "python3"
  },
  "language_info": {
   "codemirror_mode": {
    "name": "ipython",
    "version": 3
   },
   "file_extension": ".py",
   "mimetype": "text/x-python",
   "name": "python",
   "nbconvert_exporter": "python",
   "pygments_lexer": "ipython3",
   "version": "3.8.5"
  }
 },
 "nbformat": 4,
 "nbformat_minor": 4
}
